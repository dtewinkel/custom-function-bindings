{
 "cells": [
  {
   "attachments": {},
   "cell_type": "markdown",
   "metadata": {},
   "source": [
    "**Setup NuGet repo**\n",
    "\n",
    "This will create a `NuGetRepository` folder in the root of this project and set the `CUSTOM_FUNCTION_BINDINGS_NUGET` to point to it.\n",
    "\n",
    "It will add, or update the `NuGet.config` in the root of the project."
   ]
  },
  {
   "cell_type": "code",
   "execution_count": 23,
   "metadata": {
    "dotnet_interactive": {
     "language": "pwsh"
    },
    "polyglot_notebook": {
     "kernelName": "pwsh"
    }
   },
   "outputs": [],
   "source": [
    "# Set variables\n",
    "$envVariableName = 'CUSTOM_FUNCTION_BINDINGS_NUGET'\n",
    "$repoDirectoryName = 'NuGetRepository'\n",
    "$projectPath = (Get-Item .).FullName\n",
    "$repoPath = Join-Path $projectPath $repoDirectoryName\n",
    "$nuGetFile = Join-Path $projectPath 'NuGet.config'"
   ]
  },
  {
   "cell_type": "code",
   "execution_count": 24,
   "metadata": {
    "dotnet_interactive": {
     "language": "pwsh"
    },
    "polyglot_notebook": {
     "kernelName": "pwsh"
    }
   },
   "outputs": [],
   "source": [
    "\n",
    "# Create the path.\n",
    "if(-not (Test-Path $repoPath))\n",
    "{\n",
    "    $repoPath = New-Item -Path $repoPath -ItemType Directory\n",
    "}"
   ]
  },
  {
   "cell_type": "code",
   "execution_count": 28,
   "metadata": {
    "dotnet_interactive": {
     "language": "pwsh"
    },
    "polyglot_notebook": {
     "kernelName": "pwsh"
    }
   },
   "outputs": [],
   "source": [
    "# Add the NuGet.config file.\n",
    "if(-not (Test-Path $nuGetFile))\n",
    "{\n",
    "    $nuGetFile = New-Item -Path $NuGetFile -ItemType File\n",
    "}\n",
    "# Set the contents of the NuGet.config file.\n",
    "\n",
    "@\"\n",
    "<?xml version=\"1.0\" encoding=\"utf-8\"?>\n",
    "<configuration>\n",
    "  <packageSources>\n",
    "    <clear />\n",
    "    <add key=\"nuget.org\" value=\"https://api.nuget.org/v3/index.json\" protocolVersion=\"3\" />\n",
    "    <add key=\"Custom Functions bindings NuGet.\" value=\"%CUSTOM_FUNCTION_BINDINGS_NUGET%\" />\n",
    "    <add key=\"Microsoft Visual Studio Offline Packages\" value=\"C:\\Program Files (x86)\\Microsoft SDKs\\NuGetPackages\\\" />\n",
    "  </packageSources>\n",
    "</configuration>\n",
    "\"@ | Out-File $nuGetFile -Encoding utf8BOM"
   ]
  },
  {
   "cell_type": "code",
   "execution_count": 29,
   "metadata": {
    "dotnet_interactive": {
     "language": "pwsh"
    },
    "polyglot_notebook": {
     "kernelName": "pwsh"
    }
   },
   "outputs": [],
   "source": [
    "# Add the ENvironment variable to the user's environment.\n",
    "\n",
    "[System.Environment]::SetEnvironmentVariable($envVariableName, $repoPath, \"User\")"
   ]
  }
 ],
 "metadata": {
  "kernelspec": {
   "display_name": ".NET (C#)",
   "language": "C#",
   "name": ".net-csharp"
  },
  "language_info": {
   "name": "polyglot-notebook"
  },
  "polyglot_notebook": {
   "kernelInfo": {
    "defaultKernelName": "csharp",
    "items": [
     {
      "aliases": [],
      "name": ".NET"
     },
     {
      "aliases": [
       "C#",
       "c#"
      ],
      "languageName": "C#",
      "name": "csharp"
     },
     {
      "aliases": [
       "F#",
       "f#"
      ],
      "languageName": "F#",
      "name": "fsharp"
     },
     {
      "aliases": [],
      "languageName": "HTML",
      "name": "html"
     },
     {
      "aliases": [
       "js"
      ],
      "languageName": "JavaScript",
      "name": "javascript"
     },
     {
      "aliases": [],
      "languageName": "KQL",
      "name": "kql"
     },
     {
      "aliases": [],
      "languageName": "Mermaid",
      "name": "mermaid"
     },
     {
      "aliases": [
       "powershell"
      ],
      "languageName": "PowerShell",
      "name": "pwsh"
     },
     {
      "aliases": [],
      "languageName": "SQL",
      "name": "sql"
     },
     {
      "aliases": [],
      "name": "value"
     },
     {
      "aliases": [
       "frontend"
      ],
      "name": "vscode"
     },
     {
      "aliases": [],
      "name": "webview"
     }
    ]
   }
  }
 },
 "nbformat": 4,
 "nbformat_minor": 2
}
